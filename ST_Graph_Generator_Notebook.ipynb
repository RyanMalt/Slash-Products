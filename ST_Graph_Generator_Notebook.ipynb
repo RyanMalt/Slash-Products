{
 "cells": [
  {
   "cell_type": "markdown",
   "metadata": {},
   "source": [
    "# Slash Product Notebook\n",
    "This Jupyter notebook was created by Ryan Malthaner with algorithms from Garrett Tresch as a way of better visualizing, drawing, and working with slash products of st-graphs.  Current functionality allows for the slashing of arbitrary st-graphs together, as well as computing slash powers of a graph with itself.  All that is needed for this functionality is a numpy matrix of the adjacency matrix of the graph (be sure to put 0's on the diagonal), then the functions here will do the rest.  \n",
    "\n",
    "The function \"create_graph\" creates the graph from the given adjancency matrix and returns a networkx Graph object which has a multitude of algorithms and functionality built in that you can read about <a href=\"https://networkx.org/documentation/stable/reference/introduction.html\">here</a>.\n",
    "\n",
    "The function \"draw_graph\" draws the graph in a way where the nodes can be manipulated in the window where the graph is drawn.  These node positions can then be reused as shown in the code below, so that one does not have to constantly readjust the nodes time after time.  By default the positions of the nodes are printed out to the notebook so they can be reused between launches of the notebook.\n",
    "\n",
    "The function \"comp_slash_power_verts\" computes the number of vertices for a slash power of a given st-graph.  This formula is given by $|V_G| + |E_G|\\cdot(|V_H| - 2)$.\n",
    "\n",
    "The function \"comp_slash_verts\" computes the number of vertices for a slash product of two graphs.  This formula is given by $2 + (V - 2)\\cdot\\frac{E^{n} - 1}{E - 1}$.\n",
    "\n",
    "The function \"slash_H_into_G\" takes an st-graph $G$ and replaces every edge of $G$ with a copy of $H$ i.e. it returns $G ⊘ H$.\n",
    "\n",
    "The function \"slash_power\" takes an st-graph $G$ and performs the slash product of $G$ with itself $n$ times.  This is given by $G^{⊘(n)} = G^{⊘(n - 1)}⊘G$.  If one needs to compute multiple slash powers and retain them, it is much faster and better to use \"slash_H_into_G\" multiple times, as it will only compute exactly what is needed, whereas \"slash_power\" computes all the slash powers up until the iteration requested each time.\n",
    "\n",
    "Please enjoy this notebook, and we hope it is productive for your research.  Any requests for features, updates, or bugs can be sent to ryan_malthaner at tamu dot edu.  Thanks!"
   ]
  },
  {
   "cell_type": "code",
   "execution_count": 1,
   "metadata": {},
   "outputs": [],
   "source": [
    "import numpy as np\n",
    "import networkx as nx\n",
    "from netgraph import InteractiveGraph\n",
    "import matplotlib.pyplot as plt"
   ]
  },
  {
   "cell_type": "code",
   "execution_count": 2,
   "metadata": {},
   "outputs": [
    {
     "name": "stdout",
     "output_type": "stream",
     "text": [
      "Using matplotlib backend: Qt5Agg\n"
     ]
    }
   ],
   "source": [
    "%matplotlib"
   ]
  },
  {
   "cell_type": "code",
   "execution_count": 3,
   "metadata": {},
   "outputs": [],
   "source": [
    "def create_graph(adj_matr):\n",
    "    return nx.from_numpy_array(adj_matr)\n",
    "\n",
    "def draw_graph(G, positions = None, with_labels=True, print_node_positions=True):\n",
    "    #Taken from https://stackoverflow.com/questions/56084955/how-can-i-manually-place-networkx-nodes-using-the-mouse\n",
    "    # decide on a layout\n",
    "    if positions is None:\n",
    "        positions = nx.spring_layout(G)\n",
    "\n",
    "    # Create an interactive plot.\n",
    "    # NOTE: you must retain a reference to the object instance!\n",
    "    # Otherwise the whole thing will be garbage collected after the initial draw\n",
    "    # and you won't be able to move the plot elements around.\n",
    "    plot_instance = InteractiveGraph(G, node_layout=positions, node_labels=with_labels, scale = (2,2))\n",
    "    \n",
    "    #prints the node positions so they can be saved and accessed later\n",
    "    if print_node_positions:\n",
    "        print(copy_pastable_node_positions(plot_instance.node_positions))\n",
    "        \n",
    "    return plot_instance\n",
    "\n",
    "def copy_pastable_node_positions(node_positions):\n",
    "    for node in node_positions:\n",
    "        node_positions[node] = list(node_positions[node])\n",
    "        \n",
    "    return node_positions"
   ]
  },
  {
   "cell_type": "code",
   "execution_count": 4,
   "metadata": {},
   "outputs": [],
   "source": [
    "#Computes expected number of vertices for a slash power of a given st-graph\n",
    "def comp_slash_power_verts(initial_vertices, initial_edges, iteration_number):\n",
    "    return int(2 + (initial_vertices - 2) * (initial_edges**iteration_number - 1)/(initial_edges - 1))\n",
    "\n",
    "#Computes expected number of vertices for a slash product of two graphs\n",
    "def comp_slash_verts(G_verts, G_edges, H_verts, H_edges):\n",
    "    return G_verts + G_edges*(H_verts - 2)\n",
    "\n",
    "#Computes the slash product G \\ H, replacing every edge of G with a copy of H \n",
    "#Returns a networkx Graph object\n",
    "def slash_H_into_G(G, H):\n",
    "    G_edges = list(G.edges)\n",
    "    G_verts = G.number_of_nodes()\n",
    "\n",
    "    H_adj_matr = nx.to_numpy_array(H)\n",
    "    H_verts = H.number_of_nodes() - 2 #Number of vertices added to the new graph at every edge of G\n",
    "    \n",
    "    num_verts = comp_slash_verts(G_verts, len(G_edges), H_verts + 2, len(list(H.edges)))\n",
    "    \n",
    "    A = np.zeros([num_verts, num_verts]) #initialized new adjacency matrix\n",
    "    start_index = G.number_of_nodes() #starting label number for new nodes, note that we preserve previous nodes\n",
    "    \n",
    "    #Loop through edges in G\n",
    "    for edge in G_edges:\n",
    "        #Make sure edges are ordered from smallest to largest, though it doesn't really matter\n",
    "        if edge[0] > edge[1]:\n",
    "            edge = (edge[1], edge[0])\n",
    "            \n",
    "        #Get the indices of the submatrix block, starting with the first vertex of the edge in G that you're replacing\n",
    "        #with H\n",
    "        block_indices = [edge[0]]\n",
    "        \n",
    "        #Grab the next labels which are available\n",
    "        for i in range(start_index, start_index + H_verts):\n",
    "            block_indices.append(i)\n",
    "            start_index += 1\n",
    "            \n",
    "        #Grab the last vertex of the edge\n",
    "        block_indices.append(edge[1])\n",
    "        \n",
    "        #Replace the block indexed by these matrices by the adjacency matrix of H\n",
    "        A[np.ix_(block_indices, block_indices)] = H_adj_matr\n",
    "    \n",
    "    slash_product = nx.from_numpy_array(A)\n",
    "    \n",
    "    return slash_product\n",
    "\n",
    "#Computes the slash product of a graph G with itself n times\n",
    "#Returns a networkx Graph object\n",
    "#Note: If you plan on computing a bunch of slash powers, I recommend manually using slash_H_into_G over and over\n",
    "#as this function will do a LOT of repeated work if you do slash_power(G, 1), slash_power(G, 2), etc.\n",
    "def slash_power(G, n):\n",
    "    G_i = G\n",
    "    \n",
    "    for i in range(1, n):\n",
    "        G_i = slash_H_into_G(G_i, G)\n",
    "        \n",
    "    return G_i"
   ]
  },
  {
   "cell_type": "code",
   "execution_count": 5,
   "metadata": {},
   "outputs": [
    {
     "name": "stdout",
     "output_type": "stream",
     "text": [
      "{0: [-0.2978174158747801, -0.7989227578936241], 1: [0.7918767773786299, -0.2991130812348783], 2: [-0.7947014329714994, 0.2976558971283099], 3: [0.3026340434955666, 0.7989622307146271], 4: [0.44770367821526474, -0.9930546729174373], 5: [0.3145607283679342, -0.6974618617982149], 6: [-0.6967114288501409, -0.3156913750381037], 7: [-0.9936835378890116, -0.45615584730185477], 8: [1.0, 0.44326154256384376], 9: [0.6935357943197923, 0.3279926086905566], 10: [-0.30986177823029654, 0.7001929358912675], 11: [-0.45753542796145913, 0.9923343811955079]}\n"
     ]
    }
   ],
   "source": [
    "#adjacency matrix of the diamond graph D_1\n",
    "D1_matrix = np.array([[0, 1, 1, 0],\n",
    "              [1, 0, 0, 1],\n",
    "              [1, 0, 0, 1],\n",
    "              [0, 1, 1, 0]])\n",
    "\n",
    "#creates graph object from the adjacency matrix\n",
    "D1 = create_graph(D1_matrix)\n",
    "\n",
    "#Computes the second diamond graph using a slash product of D_1 \\ D_1\n",
    "D2 = slash_power(D1, 2)\n",
    "\n",
    "#Call the draw function once, grab the plot instance, then use plot_instance.node_positions to graph the node_positions and\n",
    "#use that information in future calls to draw_graph, so you don't have to keep moving the graph every time\n",
    "plot_instance = draw_graph(D2)"
   ]
  },
  {
   "cell_type": "code",
   "execution_count": 6,
   "metadata": {},
   "outputs": [
    {
     "name": "stdout",
     "output_type": "stream",
     "text": [
      "{0: [-0.2978174158747801, -0.7989227578936241], 1: [0.7918767773786299, -0.2991130812348783], 2: [-0.7947014329714994, 0.2976558971283099], 3: [0.3026340434955666, 0.7989622307146271], 4: [0.44770367821526474, -0.9930546729174373], 5: [0.3145607283679342, -0.6974618617982149], 6: [-0.6967114288501409, -0.3156913750381037], 7: [-0.9936835378890116, -0.45615584730185477], 8: [1.0, 0.44326154256384376], 9: [0.6935357943197923, 0.3279926086905566], 10: [-0.30986177823029654, 0.7001929358912675], 11: [-0.45753542796145913, 0.9923343811955079]}\n",
      "Warning: clicked outside axis limits!\n"
     ]
    }
   ],
   "source": [
    "#Call like this every time after you set your nodes to keep drawing them in the same place\n",
    "plot_instance = draw_graph(D2, positions=plot_instance.node_positions, with_labels=True)"
   ]
  },
  {
   "cell_type": "code",
   "execution_count": null,
   "metadata": {},
   "outputs": [],
   "source": []
  }
 ],
 "metadata": {
  "kernelspec": {
   "display_name": "Python 3 (ipykernel)",
   "language": "python",
   "name": "python3"
  },
  "language_info": {
   "codemirror_mode": {
    "name": "ipython",
    "version": 3
   },
   "file_extension": ".py",
   "mimetype": "text/x-python",
   "name": "python",
   "nbconvert_exporter": "python",
   "pygments_lexer": "ipython3",
   "version": "3.8.13"
  }
 },
 "nbformat": 4,
 "nbformat_minor": 4
}
